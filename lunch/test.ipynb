{
 "cells": [
  {
   "cell_type": "code",
   "execution_count": 1,
   "metadata": {},
   "outputs": [],
   "source": [
    "import pandas as pd\n",
    "import os"
   ]
  },
  {
   "cell_type": "code",
   "execution_count": 2,
   "metadata": {},
   "outputs": [],
   "source": [
    "__file__ = \"test.ipynb\""
   ]
  },
  {
   "cell_type": "code",
   "execution_count": 18,
   "metadata": {},
   "outputs": [],
   "source": [
    "from database_management import list_restaurants, list_rating, list_reviews"
   ]
  },
  {
   "cell_type": "code",
   "execution_count": 4,
   "metadata": {},
   "outputs": [],
   "source": [
    "restaurants = list_restaurants()\n",
    "ratings = list_rating()"
   ]
  },
  {
   "cell_type": "code",
   "execution_count": 5,
   "metadata": {},
   "outputs": [
    {
     "data": {
      "text/plain": [
       "[{'Name': 'name',\n",
       "  'text': 'text',\n",
       "  'quality': 3,\n",
       "  'quantity': 4,\n",
       "  'price': 5,\n",
       "  'overall': 6},\n",
       " {'Name': 'Zgnile kiszki Jana', 'location': 'sadistic.pl'},\n",
       " {'Name': 'name', 'location': 'url'}]"
      ]
     },
     "execution_count": 5,
     "metadata": {},
     "output_type": "execute_result"
    }
   ],
   "source": [
    "restaurants"
   ]
  },
  {
   "cell_type": "code",
   "execution_count": 6,
   "metadata": {},
   "outputs": [
    {
     "data": {
      "text/plain": [
       "[{'Name': 'Zgnile kiszki Jana',\n",
       "  'quality': 4.0,\n",
       "  'quantity': 3.5,\n",
       "  'price': 1.5,\n",
       "  'overall': 3.0},\n",
       " {'Name': 'name',\n",
       "  'quality': 3.0,\n",
       "  'quantity': 4.0,\n",
       "  'price': 5.0,\n",
       "  'overall': 6.0}]"
      ]
     },
     "execution_count": 6,
     "metadata": {},
     "output_type": "execute_result"
    }
   ],
   "source": [
    "ratings"
   ]
  },
  {
   "cell_type": "code",
   "execution_count": 15,
   "metadata": {},
   "outputs": [],
   "source": [
    "restaurants = list_restaurants()\n",
    "ratings = list_rating()\n",
    "for restaurant in restaurants:\n",
    "    restaurant['quality'] = \"-\"\n",
    "    restaurant['quantity'] = \"-\"\n",
    "    restaurant['price'] = \"-\"\n",
    "    restaurant['overall'] = \"-\"\n",
    "    for rating in ratings:\n",
    "        if rating['Name']==restaurant['Name']:\n",
    "            restaurant['quality'] = int(round(rating['quality'],0))*\"😋\"\n",
    "            restaurant['quantity'] = int(round(rating['quantity'],0))*\"🍕\"\n",
    "            restaurant['price'] = int(round(rating['price'],0))*\"💲\"\n",
    "            restaurant['overall'] = int(round(rating['overall'],0))*\"⭐\"\n",
    "            break\n",
    "list_of_rows = [[\"Name\", \"Location\", \"Quality\", \"Quantity\", \"Price\", \"Overall\"]] + [list(r.values()) for r in restaurants]"
   ]
  },
  {
   "cell_type": "code",
   "execution_count": 16,
   "metadata": {},
   "outputs": [
    {
     "data": {
      "text/plain": [
       "[['Name', 'Location', 'Quality', 'Quantity', 'Price', 'Overall'],\n",
       " ['name', 'text', '😋😋😋', '🍕🍕🍕🍕', '💲💲💲💲💲', '⭐⭐⭐⭐⭐⭐'],\n",
       " ['Zgnile kiszki Jana', 'sadistic.pl', '😋😋😋😋', '🍕🍕🍕🍕', '💲💲', '⭐⭐⭐'],\n",
       " ['name', 'url', '😋😋😋', '🍕🍕🍕🍕', '💲💲💲💲💲', '⭐⭐⭐⭐⭐⭐']]"
      ]
     },
     "execution_count": 16,
     "metadata": {},
     "output_type": "execute_result"
    }
   ],
   "source": [
    "list_of_rows"
   ]
  },
  {
   "cell_type": "code",
   "execution_count": 19,
   "metadata": {},
   "outputs": [
    {
     "data": {
      "text/plain": [
       "[{'Name': 'name',\n",
       "  'text': 'text',\n",
       "  'quality': 3,\n",
       "  'quantity': 4,\n",
       "  'price': 5,\n",
       "  'overall': 6},\n",
       " {'Name': 'name',\n",
       "  'text': 'text',\n",
       "  'quality': 3,\n",
       "  'quantity': 4,\n",
       "  'price': 5,\n",
       "  'overall': 6},\n",
       " {'Name': 'Zgnile kiszki Jana',\n",
       "  'text': 'Sadystyczna ekscytacja gwarantowana!',\n",
       "  'quality': 5,\n",
       "  'quantity': 5,\n",
       "  'price': 1,\n",
       "  'overall': 5},\n",
       " {'Name': 'Zgnile kiszki Jana',\n",
       "  'text': 'Sadystyczna ekscytacja gwarantowana!',\n",
       "  'quality': 3,\n",
       "  'quantity': 2,\n",
       "  'price': 2,\n",
       "  'overall': 1},\n",
       " {'Name': 'Zgnile kiszki Jana',\n",
       "  'text': 'The U.S. Treasury Yield Curve',\n",
       "  'quality': 1,\n",
       "  'quantity': 1,\n",
       "  'price': 5,\n",
       "  'overall': 5},\n",
       " {'Name': 'Zgnile kiszki Jana',\n",
       "  'text': 'Treasury Instantaneous Forward Rate Curve',\n",
       "  'quality': 1,\n",
       "  'quantity': 1,\n",
       "  'price': 5,\n",
       "  'overall': 5}]"
      ]
     },
     "execution_count": 19,
     "metadata": {},
     "output_type": "execute_result"
    }
   ],
   "source": [
    "list_reviews()"
   ]
  },
  {
   "cell_type": "code",
   "execution_count": 22,
   "metadata": {},
   "outputs": [],
   "source": [
    "reviews = list_reviews()\n",
    "for review in reviews:\n",
    "    review['quality'] = int(round(review['quality'],0))*\"😋\"\n",
    "    review['quantity'] = int(round(review['quantity'],0))*\"🍕\"\n",
    "    review['price'] = int(round(review['price'],0))*\"💲\"\n",
    "    review['overall'] = int(round(review['overall'],0))*\"⭐\"\n",
    "\n",
    "list_of_rows = [[\"Name\", \"Review\", \"Quality\", \"Quantity\", \"Price\", \"Overall\"]] + [list(r.values()) for r in reviews]"
   ]
  },
  {
   "cell_type": "code",
   "execution_count": 23,
   "metadata": {},
   "outputs": [
    {
     "data": {
      "text/plain": [
       "[['Name', 'Review', 'Quality', 'Quantity', 'Price', 'Overall'],\n",
       " ['name', 'text', '😋😋😋', '🍕🍕🍕🍕', '💲💲💲💲💲', '⭐⭐⭐⭐⭐⭐'],\n",
       " ['name', 'text', '😋😋😋', '🍕🍕🍕🍕', '💲💲💲💲💲', '⭐⭐⭐⭐⭐⭐'],\n",
       " ['Zgnile kiszki Jana',\n",
       "  'Sadystyczna ekscytacja gwarantowana!',\n",
       "  '😋😋😋😋😋',\n",
       "  '🍕🍕🍕🍕🍕',\n",
       "  '💲',\n",
       "  '⭐⭐⭐⭐⭐'],\n",
       " ['Zgnile kiszki Jana',\n",
       "  'Sadystyczna ekscytacja gwarantowana!',\n",
       "  '😋😋😋',\n",
       "  '🍕🍕',\n",
       "  '💲💲',\n",
       "  '⭐'],\n",
       " ['Zgnile kiszki Jana',\n",
       "  'The U.S. Treasury Yield Curve',\n",
       "  '😋',\n",
       "  '🍕',\n",
       "  '💲💲💲💲💲',\n",
       "  '⭐⭐⭐⭐⭐'],\n",
       " ['Zgnile kiszki Jana',\n",
       "  'Treasury Instantaneous Forward Rate Curve',\n",
       "  '😋',\n",
       "  '🍕',\n",
       "  '💲💲💲💲💲',\n",
       "  '⭐⭐⭐⭐⭐']]"
      ]
     },
     "execution_count": 23,
     "metadata": {},
     "output_type": "execute_result"
    }
   ],
   "source": [
    "list_of_rows"
   ]
  }
 ],
 "metadata": {
  "kernelspec": {
   "display_name": "Python 3",
   "language": "python",
   "name": "python3"
  },
  "language_info": {
   "codemirror_mode": {
    "name": "ipython",
    "version": 3
   },
   "file_extension": ".py",
   "mimetype": "text/x-python",
   "name": "python",
   "nbconvert_exporter": "python",
   "pygments_lexer": "ipython3",
   "version": "3.10.11"
  }
 },
 "nbformat": 4,
 "nbformat_minor": 2
}
