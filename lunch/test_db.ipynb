{
 "cells": [
  {
   "cell_type": "code",
   "execution_count": 2,
   "metadata": {},
   "outputs": [],
   "source": [
    "__file__ = \"test.ipynb\""
   ]
  },
  {
   "cell_type": "code",
   "execution_count": 1,
   "metadata": {},
   "outputs": [],
   "source": [
    "from database_management import list_restaurants, list_reviews, list_rating\n",
    "from database_management import add_restaurant, add_review, save_rating"
   ]
  },
  {
   "cell_type": "code",
   "execution_count": 3,
   "metadata": {},
   "outputs": [
    {
     "data": {
      "text/plain": [
       "[{'Name': 'name',\n",
       "  'text': 'text',\n",
       "  'quality': 3,\n",
       "  'quantity': 4,\n",
       "  'price': 5,\n",
       "  'overall': 6},\n",
       " {'Name': 'Zgnile kiszki Jana', 'location': 'sadistic.pl'},\n",
       " {'Name': 'name', 'location': 'url'}]"
      ]
     },
     "execution_count": 3,
     "metadata": {},
     "output_type": "execute_result"
    }
   ],
   "source": [
    "list_restaurants()"
   ]
  },
  {
   "cell_type": "code",
   "execution_count": 5,
   "metadata": {},
   "outputs": [
    {
     "data": {
      "text/plain": [
       "[{'Name': 'name',\n",
       "  'text': 'text',\n",
       "  'quality': 3,\n",
       "  'quantity': 4,\n",
       "  'price': 5,\n",
       "  'overall': 6},\n",
       " {'Name': 'name',\n",
       "  'text': 'text',\n",
       "  'quality': 3,\n",
       "  'quantity': 4,\n",
       "  'price': 5,\n",
       "  'overall': 6},\n",
       " {'Name': 'Zgnile kiszki Jana',\n",
       "  'text': 'Sadystyczna ekscytacja gwarantowana!',\n",
       "  'quality': 5,\n",
       "  'quantity': 5,\n",
       "  'price': 1,\n",
       "  'overall': 5},\n",
       " {'Name': 'Zgnile kiszki Jana',\n",
       "  'text': 'Sadystyczna ekscytacja gwarantowana!',\n",
       "  'quality': 3,\n",
       "  'quantity': 2,\n",
       "  'price': 2,\n",
       "  'overall': 1}]"
      ]
     },
     "execution_count": 5,
     "metadata": {},
     "output_type": "execute_result"
    }
   ],
   "source": [
    "list_reviews()"
   ]
  },
  {
   "cell_type": "code",
   "execution_count": 6,
   "metadata": {},
   "outputs": [
    {
     "data": {
      "text/plain": [
       "[{'Name': 'Zgnile kiszki Jana',\n",
       "  'quality': 4.0,\n",
       "  'quantity': 3.5,\n",
       "  'price': 1.5,\n",
       "  'overall': 3.0},\n",
       " {'Name': 'name',\n",
       "  'quality': 3.0,\n",
       "  'quantity': 4.0,\n",
       "  'price': 5.0,\n",
       "  'overall': 6.0}]"
      ]
     },
     "execution_count": 6,
     "metadata": {},
     "output_type": "execute_result"
    }
   ],
   "source": [
    "list_rating()"
   ]
  },
  {
   "cell_type": "code",
   "execution_count": 8,
   "metadata": {},
   "outputs": [],
   "source": [
    "add_restaurant(\"Zgnile kiszki Jana\", \"sadistic.pl\")"
   ]
  },
  {
   "cell_type": "code",
   "execution_count": 14,
   "metadata": {},
   "outputs": [],
   "source": [
    "add_review(\"Zgnile kiszki Jana\",\"Sadystyczna ekscytacja gwarantowana!\",3,2,2,1)"
   ]
  },
  {
   "cell_type": "code",
   "execution_count": 15,
   "metadata": {},
   "outputs": [],
   "source": [
    "save_rating()"
   ]
  }
 ],
 "metadata": {
  "kernelspec": {
   "display_name": "Python 3",
   "language": "python",
   "name": "python3"
  },
  "language_info": {
   "codemirror_mode": {
    "name": "ipython",
    "version": 3
   },
   "file_extension": ".py",
   "mimetype": "text/x-python",
   "name": "python",
   "nbconvert_exporter": "python",
   "pygments_lexer": "ipython3",
   "version": "3.8.13"
  }
 },
 "nbformat": 4,
 "nbformat_minor": 2
}
